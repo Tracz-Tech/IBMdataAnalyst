{
 "cells": [
  {
   "cell_type": "code",
   "execution_count": 1,
   "metadata": {},
   "outputs": [
    {
     "name": "stdout",
     "output_type": "stream",
     "text": [
      "five\n"
     ]
    }
   ],
   "source": [
    "myVar = 6\n",
    "if myVar != 5:\n",
    "    print('five')\n",
    "else:\n",
    "    print(\"not five\")"
   ]
  },
  {
   "cell_type": "code",
   "execution_count": 2,
   "metadata": {},
   "outputs": [
    {
     "data": {
      "text/plain": [
       "False"
      ]
     },
     "execution_count": 2,
     "metadata": {},
     "output_type": "execute_result"
    }
   ],
   "source": [
    "'a'==\"A\""
   ]
  },
  {
   "cell_type": "code",
   "execution_count": 3,
   "metadata": {},
   "outputs": [
    {
     "name": "stdout",
     "output_type": "stream",
     "text": [
      "Enter your age.23\n",
      "<class 'int'>\n",
      "Move on.\n"
     ]
    }
   ],
   "source": [
    "age = int(input('Enter your age.'))\n",
    "print(type(age))\n",
    "if not(age > 18) or (age == 34):\n",
    "    print('You can enter.')\n",
    "elif (age < 6):\n",
    "    print('You are just an infant.')\n",
    "else:\n",
    "    print('Move on.')"
   ]
  },
  {
   "cell_type": "code",
   "execution_count": 4,
   "metadata": {},
   "outputs": [
    {
     "name": "stdout",
     "output_type": "stream",
     "text": [
      "['white', 'white', 'white', 'white', 'white']\n"
     ]
    }
   ],
   "source": [
    "squares = ['red','yellow','green','purple','blue']\n",
    "for i in range(0,5):\n",
    "    squares[i]='white'\n",
    "print(squares)"
   ]
  },
  {
   "cell_type": "code",
   "execution_count": 5,
   "metadata": {},
   "outputs": [
    {
     "name": "stdout",
     "output_type": "stream",
     "text": [
      "['red', 'yellow', 'green', 'purple', 'blue']\n"
     ]
    }
   ],
   "source": [
    "squares = ['red','yellow','green','purple','blue']\n",
    "for square in squares:\n",
    "    square = 'white'\n",
    "print(squares)"
   ]
  },
  {
   "cell_type": "code",
   "execution_count": 6,
   "metadata": {},
   "outputs": [
    {
     "name": "stdout",
     "output_type": "stream",
     "text": [
      "red\n",
      "0\n",
      "yellow\n",
      "1\n",
      "green\n",
      "2\n",
      "purple\n",
      "3\n",
      "blue\n",
      "4\n"
     ]
    }
   ],
   "source": [
    "squares = ['red','yellow','green','purple','blue']\n",
    "for i,square in enumerate(squares):\n",
    "    print(square)\n",
    "    print(i)"
   ]
  },
  {
   "cell_type": "code",
   "execution_count": 7,
   "metadata": {},
   "outputs": [
    {
     "name": "stdout",
     "output_type": "stream",
     "text": [
      "blue\n",
      "(0, 'red')\n",
      "blue\n",
      "(1, 'yellow')\n",
      "blue\n",
      "(2, 'green')\n",
      "blue\n",
      "(3, 'purple')\n",
      "blue\n",
      "(4, 'blue')\n"
     ]
    }
   ],
   "source": [
    "squares = ['red','yellow','green','purple','blue']\n",
    "for i in enumerate(squares):\n",
    "    print(square)\n",
    "    print(i)"
   ]
  },
  {
   "cell_type": "code",
   "execution_count": 8,
   "metadata": {},
   "outputs": [
    {
     "name": "stdout",
     "output_type": "stream",
     "text": [
      "['orange', 'orange']\n"
     ]
    }
   ],
   "source": [
    "squares=['orange','orange','purple','orange','blue']\n",
    "Newsquares=[]\n",
    "i=0\n",
    "while(squares[i]=='orange'):\n",
    "    Newsquares.append(squares[i])\n",
    "    i=i+1\n",
    "print(Newsquares)"
   ]
  },
  {
   "cell_type": "code",
   "execution_count": 9,
   "metadata": {},
   "outputs": [
    {
     "name": "stdout",
     "output_type": "stream",
     "text": [
      "1982\n",
      "1980\n",
      "1973\n"
     ]
    }
   ],
   "source": [
    "dates = [1982,1980,1973]\n",
    "N = len(dates)\n",
    "\n",
    "for i in range(N):\n",
    "    print(dates[i])"
   ]
  },
  {
   "cell_type": "code",
   "execution_count": 10,
   "metadata": {},
   "outputs": [
    {
     "name": "stdout",
     "output_type": "stream",
     "text": [
      "1982\n",
      "1980\n",
      "1973\n"
     ]
    }
   ],
   "source": [
    "dates = [1982,1980,1973]\n",
    "\n",
    "for date in dates:\n",
    "    print(date)"
   ]
  },
  {
   "cell_type": "code",
   "execution_count": 11,
   "metadata": {},
   "outputs": [
    {
     "name": "stdout",
     "output_type": "stream",
     "text": [
      "9 +1= 10\n"
     ]
    },
    {
     "data": {
      "text/plain": [
       "10"
      ]
     },
     "execution_count": 11,
     "metadata": {},
     "output_type": "execute_result"
    }
   ],
   "source": [
    "def myadd(a):\n",
    "    \"\"\"add 1 to input\"\"\"\n",
    "    #add 1 to input!\n",
    "    b=a+1\n",
    "    \n",
    "    print(a,'+1=',b)\n",
    "    return b\n",
    "\n",
    "myadd(9)"
   ]
  },
  {
   "cell_type": "code",
   "execution_count": 12,
   "metadata": {},
   "outputs": [
    {
     "ename": "SyntaxError",
     "evalue": "invalid syntax (<ipython-input-12-f25ac51706ab>, line 1)",
     "output_type": "error",
     "traceback": [
      "\u001b[0;36m  File \u001b[0;32m\"<ipython-input-12-f25ac51706ab>\"\u001b[0;36m, line \u001b[0;32m1\u001b[0m\n\u001b[0;31m    help myadd\u001b[0m\n\u001b[0m             ^\u001b[0m\n\u001b[0;31mSyntaxError\u001b[0m\u001b[0;31m:\u001b[0m invalid syntax\n"
     ]
    }
   ],
   "source": [
    "help myadd"
   ]
  },
  {
   "cell_type": "code",
   "execution_count": null,
   "metadata": {},
   "outputs": [],
   "source": [
    "album_ratings=[10.0,8.5,9.5,7.0,7.0,9.5,9.0,9.5]\n",
    "sorted_album_ratings=sorted(album_ratings)\n",
    "sorted_album_ratings"
   ]
  },
  {
   "cell_type": "code",
   "execution_count": null,
   "metadata": {},
   "outputs": [],
   "source": [
    "album_ratings.sort()\n",
    "album_ratings"
   ]
  },
  {
   "cell_type": "code",
   "execution_count": null,
   "metadata": {},
   "outputs": [],
   "source": [
    "help(sort)"
   ]
  },
  {
   "cell_type": "code",
   "execution_count": null,
   "metadata": {},
   "outputs": [],
   "source": [
    "help(myadd)"
   ]
  },
  {
   "cell_type": "code",
   "execution_count": null,
   "metadata": {},
   "outputs": [],
   "source": [
    "for i in range(9):\n",
    "    pass"
   ]
  },
  {
   "cell_type": "code",
   "execution_count": null,
   "metadata": {},
   "outputs": [],
   "source": [
    "\n",
    "def printStuff(Stuff):\n",
    "    for i,s in enumerate(Stuff):\n",
    "        print(\"Album\",i,\"Rating is\",s)\n",
    "    \n",
    "printStuff(\"test\")"
   ]
  },
  {
   "cell_type": "code",
   "execution_count": null,
   "metadata": {},
   "outputs": [],
   "source": [
    "\n",
    "def printStuff(Stuff):\n",
    "    for s in Stuff:\n",
    "        print(\"Rating is\",s)\n",
    "    \n",
    "printStuff(\"test\")"
   ]
  },
  {
   "cell_type": "code",
   "execution_count": null,
   "metadata": {},
   "outputs": [],
   "source": [
    "def AddDC(x):\n",
    "    global x\n",
    "    x=x+\"DC\"\n",
    "    print(x)\n",
    "    return x\n",
    "\n",
    "\n",
    "x=\"AC\"\n",
    "AddDC(x)\n",
    "print(\"The variable x is\", x)"
   ]
  },
  {
   "cell_type": "code",
   "execution_count": null,
   "metadata": {},
   "outputs": [],
   "source": [
    "Date"
   ]
  },
  {
   "cell_type": "code",
   "execution_count": null,
   "metadata": {},
   "outputs": [],
   "source": [
    "def printAll(*myArgs):\n",
    "    print(\"No of arguments:\",len(myArgs))\n",
    "    for arg in myArgs:\n",
    "        print(arg)\n",
    "        \n",
    "printAll(2,7,5,4,\"fd\")"
   ]
  },
  {
   "cell_type": "code",
   "execution_count": null,
   "metadata": {},
   "outputs": [],
   "source": [
    "def printAll(**myDict):\n",
    "    for key in myDict:\n",
    "        print(key + \" : \" + myDict[key])\n",
    "        \n",
    "printAll(Country='Canada',Province='Ontario',City='Toronto')"
   ]
  },
  {
   "cell_type": "code",
   "execution_count": 13,
   "metadata": {},
   "outputs": [
    {
     "name": "stdout",
     "output_type": "stream",
     "text": [
      "fillBag :\n",
      "Test Passed\n"
     ]
    }
   ],
   "source": [
    "def fillBag(**balls):\n",
    "    global bag\n",
    "    bag = balls\n",
    "\n",
    "def totalBalls():\n",
    "    total = 0\n",
    "    for color in bag:\n",
    "        total += bag[color]\n",
    "    return total\n",
    "\n",
    "def probOf(color):\n",
    "    return bag[color]/totalBalls()\n",
    "\n",
    "\n",
    "\n",
    "\n",
    "testBag = dict(red=12,blue=20,green=14,grey=10)\n",
    "testBag = {'red' : 12, 'blue' : 20, 'green' : 14, 'grey' : 10}\n",
    "total = sum(testBag.values())\n",
    "prob = {}\n",
    "for color in testBag:\n",
    "    prob[color] = testBag[color]/total\n",
    "    \n",
    "def testMsg(passed):\n",
    "    if passed:\n",
    "        return ('Test Passed')\n",
    "    else:\n",
    "        return ('Test Failed')\n",
    "    \n",
    "print(\"fillBag :\")\n",
    "\n",
    "try:\n",
    "    fillBag(**testBag)\n",
    "    print(testMsg(bag==testBag))\n",
    "except NameError as e:\n",
    "    print(\"Error you didn't make a function\")\n",
    "except:\n",
    "    print(\"Check your function\")"
   ]
  },
  {
   "cell_type": "code",
   "execution_count": 19,
   "metadata": {},
   "outputs": [
    {
     "name": "stdout",
     "output_type": "stream",
     "text": [
      "10\n",
      "red\n",
      "darkRed\n",
      "18\n"
     ]
    }
   ],
   "source": [
    "class Circle(object):\n",
    "    \n",
    "    def __init__(self,radius=3,color='red'):\n",
    "        self.radius = radius;\n",
    "        self.color = color;\n",
    "        \n",
    "    def add_radius(self, r):\n",
    "        self.radius = self.radius + r\n",
    "        return (self.radius)    \n",
    "\n",
    "class Rectangle(object):\n",
    "    def __init__(self, color='blue', height=4, width=6):\n",
    "        self.color = color;\n",
    "        self.height = height;\n",
    "        self.width = width;\n",
    "        \n",
    "RedCircle = Circle(10, \"red\")\n",
    "print(RedCircle.radius)\n",
    "print(RedCircle.color)\n",
    "RedCircle.color = 'darkRed'\n",
    "print(RedCircle.color)\n",
    "RedCircle.add_radius(8)\n",
    "print(RedCircle.radius)\n",
    "# dir(RedCircle)"
   ]
  },
  {
   "cell_type": "code",
   "execution_count": null,
   "metadata": {},
   "outputs": [],
   "source": [
    "# lis = [3]\n",
    "# dir(lis)"
   ]
  },
  {
   "cell_type": "code",
   "execution_count": 20,
   "metadata": {},
   "outputs": [],
   "source": [
    "class analysedText(object):\n",
    "    def __init__(self,text):\n",
    "        self.text=text;\n",
    "        \n",
    "    def freqAll(self):\n",
    "        uniqueWords = {}\n",
    "        wordList = split(uniqueWords)\n",
    "        for word in wordList:\n",
    "            uniqueWords.append(word)\n",
    "            \n",
    "    def freqOf(self, word):\n",
    "        return uniqueWords.value[word]"
   ]
  },
  {
   "cell_type": "code",
   "execution_count": null,
   "metadata": {},
   "outputs": [],
   "source": []
  },
  {
   "cell_type": "code",
   "execution_count": null,
   "metadata": {},
   "outputs": [],
   "source": [
    "class analysedText(object):\n",
    "    \n",
    "    def __init__(self, text):\n",
    "        \n",
    "        formattedText = text.replace('.',' ')\n",
    "        formattedText = formattedText.lower\n",
    "        \n",
    "        self.fmtText = formattedText\n",
    "        \n",
    "    def freqAll(self):\n",
    "        wordlist = self.fmtText.split(' ')\n",
    "        freq = {}\n",
    "        for word in set(wordlist):\n",
    "            freq[word] = wordlist.count(word)\n",
    "        return freq\n",
    "    \n",
    "    def freqOf(self, word):\n",
    "        freqDict = self.freqAll()\n",
    "        \n",
    "        if word in freqDict:\n",
    "            return freqDict[word]\n",
    "        else:\n",
    "            return 0\n",
    "        "
   ]
  },
  {
   "cell_type": "markdown",
   "metadata": {},
   "source": [
    "1/0"
   ]
  },
  {
   "cell_type": "code",
   "execution_count": 1,
   "metadata": {},
   "outputs": [
    {
     "ename": "ZeroDivisionError",
     "evalue": "division by zero",
     "output_type": "error",
     "traceback": [
      "\u001b[0;31m---------------------------------------------------------------------------\u001b[0m",
      "\u001b[0;31mZeroDivisionError\u001b[0m                         Traceback (most recent call last)",
      "\u001b[0;32m<ipython-input-1-9e1622b385b6>\u001b[0m in \u001b[0;36m<module>\u001b[0;34m\u001b[0m\n\u001b[0;32m----> 1\u001b[0;31m \u001b[0;36m1\u001b[0m\u001b[0;34m/\u001b[0m\u001b[0;36m0\u001b[0m\u001b[0;34m\u001b[0m\u001b[0;34m\u001b[0m\u001b[0m\n\u001b[0m",
      "\u001b[0;31mZeroDivisionError\u001b[0m: division by zero"
     ]
    }
   ],
   "source": [
    "1/0\n"
   ]
  },
  {
   "cell_type": "code",
   "execution_count": 2,
   "metadata": {},
   "outputs": [
    {
     "ename": "NameError",
     "evalue": "name 'a' is not defined",
     "output_type": "error",
     "traceback": [
      "\u001b[0;31m---------------------------------------------------------------------------\u001b[0m",
      "\u001b[0;31mNameError\u001b[0m                                 Traceback (most recent call last)",
      "\u001b[0;32m<ipython-input-2-6ddcec040107>\u001b[0m in \u001b[0;36m<module>\u001b[0;34m\u001b[0m\n\u001b[0;32m----> 1\u001b[0;31m \u001b[0my\u001b[0m \u001b[0;34m=\u001b[0m \u001b[0ma\u001b[0m \u001b[0;34m+\u001b[0m \u001b[0;36m5\u001b[0m\u001b[0;34m\u001b[0m\u001b[0;34m\u001b[0m\u001b[0m\n\u001b[0m",
      "\u001b[0;31mNameError\u001b[0m: name 'a' is not defined"
     ]
    }
   ],
   "source": [
    "y = a + 5"
   ]
  },
  {
   "cell_type": "code",
   "execution_count": 3,
   "metadata": {},
   "outputs": [
    {
     "ename": "IndexError",
     "evalue": "list index out of range",
     "output_type": "error",
     "traceback": [
      "\u001b[0;31m---------------------------------------------------------------------------\u001b[0m",
      "\u001b[0;31mIndexError\u001b[0m                                Traceback (most recent call last)",
      "\u001b[0;32m<ipython-input-3-84fa92698143>\u001b[0m in \u001b[0;36m<module>\u001b[0;34m\u001b[0m\n\u001b[1;32m      1\u001b[0m \u001b[0ma\u001b[0m \u001b[0;34m=\u001b[0m \u001b[0;34m[\u001b[0m\u001b[0;36m1\u001b[0m\u001b[0;34m,\u001b[0m\u001b[0;36m2\u001b[0m\u001b[0;34m,\u001b[0m\u001b[0;36m3\u001b[0m\u001b[0;34m]\u001b[0m\u001b[0;34m\u001b[0m\u001b[0;34m\u001b[0m\u001b[0m\n\u001b[0;32m----> 2\u001b[0;31m \u001b[0ma\u001b[0m\u001b[0;34m[\u001b[0m\u001b[0;36m10\u001b[0m\u001b[0;34m]\u001b[0m\u001b[0;34m\u001b[0m\u001b[0;34m\u001b[0m\u001b[0m\n\u001b[0m",
      "\u001b[0;31mIndexError\u001b[0m: list index out of range"
     ]
    }
   ],
   "source": [
    "a = [1,2,3]\n",
    "a[10]"
   ]
  },
  {
   "cell_type": "code",
   "execution_count": 22,
   "metadata": {},
   "outputs": [
    {
     "name": "stdout",
     "output_type": "stream",
     "text": [
      "Please enter a number to divid at\n",
      "You didn't enter a number\n",
      "The end\n"
     ]
    }
   ],
   "source": [
    "a = 1\n",
    "\n",
    "try:\n",
    "    b = int(input(\"Please enter a number to divid a\"))\n",
    "    a = a/b\n",
    "\n",
    "except ZeroDivisionError:\n",
    "    print(\"zero is not allowed\")\n",
    "except ValueError:\n",
    "    print(\"You didn't enter a number\")\n",
    "except:\n",
    "    print(\"There was an error\")\n",
    "else:\n",
    "    print(\"Success a=\", a)\n",
    "finally:\n",
    "    print(\"The end\")\n"
   ]
  },
  {
   "cell_type": "code",
   "execution_count": 12,
   "metadata": {},
   "outputs": [
    {
     "ename": "ValueError",
     "evalue": "invalid literal for int() with base 10: '5.5'",
     "output_type": "error",
     "traceback": [
      "\u001b[0;31m---------------------------------------------------------------------------\u001b[0m",
      "\u001b[0;31mValueError\u001b[0m                                Traceback (most recent call last)",
      "\u001b[0;32m<ipython-input-12-b9fcb4cd3570>\u001b[0m in \u001b[0;36m<module>\u001b[0;34m\u001b[0m\n\u001b[0;32m----> 1\u001b[0;31m \u001b[0mint\u001b[0m\u001b[0;34m(\u001b[0m\u001b[0;34m'5.5'\u001b[0m\u001b[0;34m)\u001b[0m\u001b[0;34m\u001b[0m\u001b[0;34m\u001b[0m\u001b[0m\n\u001b[0m",
      "\u001b[0;31mValueError\u001b[0m: invalid literal for int() with base 10: '5.5'"
     ]
    }
   ],
   "source": [
    "int('5.5')"
   ]
  },
  {
   "cell_type": "code",
   "execution_count": null,
   "metadata": {},
   "outputs": [],
   "source": []
  }
 ],
 "metadata": {
  "kernelspec": {
   "display_name": "Python 3",
   "language": "python",
   "name": "python3"
  },
  "language_info": {
   "codemirror_mode": {
    "name": "ipython",
    "version": 3
   },
   "file_extension": ".py",
   "mimetype": "text/x-python",
   "name": "python",
   "nbconvert_exporter": "python",
   "pygments_lexer": "ipython3",
   "version": "3.7.3"
  }
 },
 "nbformat": 4,
 "nbformat_minor": 4
}
